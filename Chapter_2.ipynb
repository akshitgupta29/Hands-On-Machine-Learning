{
  "nbformat": 4,
  "nbformat_minor": 0,
  "metadata": {
    "colab": {
      "name": "Chapter 2",
      "provenance": [],
      "collapsed_sections": [],
      "authorship_tag": "ABX9TyPAfMXbMtfWA217tQWqPXwg",
      "include_colab_link": true
    },
    "kernelspec": {
      "name": "python3",
      "display_name": "Python 3"
    }
  },
  "cells": [
    {
      "cell_type": "markdown",
      "metadata": {
        "id": "view-in-github",
        "colab_type": "text"
      },
      "source": [
        "<a href=\"https://colab.research.google.com/github/akshitgupta29/Hands-On-Machine-Learning/blob/main/Chapter_2.ipynb\" target=\"_parent\"><img src=\"https://colab.research.google.com/assets/colab-badge.svg\" alt=\"Open In Colab\"/></a>"
      ]
    },
    {
      "cell_type": "markdown",
      "metadata": {
        "id": "zzZ5WBGiuo03"
      },
      "source": [
        "Chapter 2 - Linear Regression\n",
        "\n",
        "Using the dataset Housing\n"
      ]
    },
    {
      "cell_type": "code",
      "metadata": {
        "id": "-DfWVRNHu4MU"
      },
      "source": [
        ""
      ],
      "execution_count": null,
      "outputs": []
    }
  ]
}